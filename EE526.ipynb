{
  "nbformat": 4,
  "nbformat_minor": 0,
  "metadata": {
    "colab": {
      "provenance": [],
      "gpuType": "T4"
    },
    "kernelspec": {
      "name": "python3",
      "display_name": "Python 3"
    },
    "language_info": {
      "name": "python"
    },
    "accelerator": "GPU"
  },
  "cells": [
    {
      "cell_type": "code",
      "execution_count": 1,
      "metadata": {
        "id": "OzhThw33QvTR"
      },
      "outputs": [],
      "source": [
        "# Knowledge Distillation Walkthrough in Google Colab\n",
        "# In this notebook, we demonstrate knowledge distillation, where a smaller student model learns from a larger, trained teacher model using the CIFAR-10 dataset."
      ]
    },
    {
      "cell_type": "code",
      "source": [
        "## Setup\n",
        "\n",
        "import torch\n",
        "import torch.nn as nn\n",
        "import torch.optim as optim\n",
        "import torch.nn.functional as F\n",
        "from torchvision import datasets, transforms\n",
        "from torch.utils.data import DataLoader\n",
        "import matplotlib.pyplot as plt\n",
        "\n",
        "# Check for GPU\n",
        "device = torch.device(\"cuda\" if torch.cuda.is_available() else \"cpu\")\n",
        "print(\"Using device:\", device)"
      ],
      "metadata": {
        "colab": {
          "base_uri": "https://localhost:8080/"
        },
        "id": "ia3sM_6IREp_",
        "outputId": "c03e6338-a979-4d4f-ce14-a6c8492e636a"
      },
      "execution_count": 51,
      "outputs": [
        {
          "output_type": "stream",
          "name": "stdout",
          "text": [
            "Using device: cuda\n"
          ]
        }
      ]
    },
    {
      "cell_type": "code",
      "source": [
        "# Load CIFAR-10 Dataset\n",
        "# CIFAR-10 is a dataset of 60,000 32x32 color images in 10 classes, with 50,000 training and 10,000 test images.\n",
        "\n",
        "transform = transforms.Compose([\n",
        "    transforms.ToTensor(),\n",
        "    transforms.Normalize((0.5, 0.5, 0.5), (0.5, 0.5, 0.5))\n",
        "])\n",
        "\n",
        "# Download and load the training and test datasets\n",
        "train_dataset = datasets.CIFAR10(root=\"./data\", train=True, download=True, transform=transform)\n",
        "test_dataset = datasets.CIFAR10(root=\"./data\", train=False, download=True, transform=transform)\n",
        "\n",
        "train_loader = DataLoader(train_dataset, batch_size=64, shuffle=True)\n",
        "test_loader = DataLoader(test_dataset, batch_size=1000, shuffle=False)"
      ],
      "metadata": {
        "colab": {
          "base_uri": "https://localhost:8080/"
        },
        "id": "Cn8jwPn6RQPY",
        "outputId": "ca9f4a8f-3b5f-4ff0-fb71-bd00ca5c813c"
      },
      "execution_count": 15,
      "outputs": [
        {
          "output_type": "stream",
          "name": "stdout",
          "text": [
            "Downloading https://www.cs.toronto.edu/~kriz/cifar-10-python.tar.gz to ./data/cifar-10-python.tar.gz\n"
          ]
        },
        {
          "output_type": "stream",
          "name": "stderr",
          "text": [
            "100%|██████████| 170M/170M [00:13<00:00, 13.0MB/s]\n"
          ]
        },
        {
          "output_type": "stream",
          "name": "stdout",
          "text": [
            "Extracting ./data/cifar-10-python.tar.gz to ./data\n",
            "Files already downloaded and verified\n"
          ]
        }
      ]
    },
    {
      "cell_type": "code",
      "source": [
        "# Define the Teacher Model\n",
        "# The teacher model is a larger CNN with two convolutional layers and two fully connected layers.\n",
        "class TeacherModel(nn.Module):\n",
        "    def __init__(self):\n",
        "        super(TeacherModel, self).__init__()\n",
        "        self.conv1 = nn.Conv2d(3, 64, kernel_size=3, padding=1)\n",
        "        self.conv2 = nn.Conv2d(64, 128, kernel_size=3, padding=1)\n",
        "        self.pool = nn.MaxPool2d(2, 2)  # Max pooling with 2x2 window\n",
        "        self.fc1 = nn.Linear(128 * 16 * 16, 256)  # Fully connected layer\n",
        "        self.fc2 = nn.Linear(256, 10) # Output layer for 10 classes\n",
        "\n",
        "    def forward(self, x):\n",
        "        x = F.relu(self.conv1(x))       # First convolutional layer with ReLU activation. Output: [batch_size, 64, 32, 32]\n",
        "        x = self.pool(F.relu(self.conv2(x)))  # Second convolutional layer with pooling. Output: [batch_size, 128, 16, 16]\n",
        "        x = x.view(-1, 128 * 16 * 16)   # Flatten the tensor to [batch_size, 128 * 16 * 16]\n",
        "        x = F.relu(self.fc1(x)) # First fully connected layer with ReLU activation\n",
        "        x = self.fc2(x) # Output layer\n",
        "        return x\n",
        "\n",
        "# Instantiate the teacher model and move it to the GPU\n",
        "teacher_model = TeacherModel().to(device)"
      ],
      "metadata": {
        "id": "hpQqhi-xRUIj"
      },
      "execution_count": 37,
      "outputs": []
    },
    {
      "cell_type": "code",
      "source": [
        "# Train the Teacher Model\n",
        "# Function to train the teacher model using cross-entropy loss\n",
        "def train_teacher(model, train_loader, epochs=5):\n",
        "    optimizer = optim.Adam(model.parameters(), lr=0.001)\n",
        "    model.train()\n",
        "    for epoch in range(epochs):\n",
        "        for data, target in train_loader:\n",
        "            data, target = data.to(device), target.to(device)\n",
        "            optimizer.zero_grad()\n",
        "            output = model(data)\n",
        "            loss = F.cross_entropy(output, target)\n",
        "            loss.backward()\n",
        "            optimizer.step()\n",
        "        print(f\"Epoch {epoch + 1}/{epochs}, Loss: {loss.item():.4f}\")"
      ],
      "metadata": {
        "id": "X2lmz6CXRXq0"
      },
      "execution_count": 38,
      "outputs": []
    },
    {
      "cell_type": "code",
      "source": [
        "# Train the teacher model\n",
        "# Using early stopping by training the teacher for fewer epochs (5 epochs, compared to 10 epochs in students)\n",
        "print(\"Training Teacher Model\")\n",
        "train_teacher(teacher_model, train_loader)"
      ],
      "metadata": {
        "colab": {
          "base_uri": "https://localhost:8080/"
        },
        "id": "MxxKxRq2dl9Q",
        "outputId": "2f63b717-9f8d-4ce4-9953-760faaa9beb2"
      },
      "execution_count": 39,
      "outputs": [
        {
          "output_type": "stream",
          "name": "stdout",
          "text": [
            "Training Teacher Model\n",
            "Epoch 1/5, Loss: 1.3681\n",
            "Epoch 2/5, Loss: 0.8232\n",
            "Epoch 3/5, Loss: 0.9598\n",
            "Epoch 4/5, Loss: 0.4891\n",
            "Epoch 5/5, Loss: 0.3068\n"
          ]
        }
      ]
    },
    {
      "cell_type": "code",
      "source": [
        "# Define the Student Model\n",
        "# The student model is a smaller CNN with fewer filters and one fully connected layer.\n",
        "class StudentModel(nn.Module):\n",
        "    def __init__(self):\n",
        "        super(StudentModel, self).__init__()\n",
        "        self.conv1 = nn.Conv2d(3, 32, kernel_size=3, padding=1)\n",
        "        self.conv2 = nn.Conv2d(32, 64, kernel_size=3, padding=1)  # New layer\n",
        "        self.pool = nn.MaxPool2d(2, 2)\n",
        "        self.fc1 = nn.Linear(64 * 8 * 8, 128)  # Updated input size\n",
        "        self.fc2 = nn.Linear(128, 10)\n",
        "\n",
        "    def forward(self, x):\n",
        "        x = self.pool(F.relu(self.conv1(x)))\n",
        "        x = self.pool(F.relu(self.conv2(x)))  # Added layer\n",
        "        x = x.view(-1, 64 * 8 * 8)\n",
        "        x = F.relu(self.fc1(x))\n",
        "        x = self.fc2(x)\n",
        "        return x\n",
        "\n",
        "# Instantiate the student models and move them to the GPU\n",
        "student_model = StudentModel().to(device)\n",
        "student_model_distilled = StudentModel().to(device)"
      ],
      "metadata": {
        "id": "ZcOoOfSPRqpV"
      },
      "execution_count": 40,
      "outputs": []
    },
    {
      "cell_type": "code",
      "source": [
        "# Knowledge Distillation Training\n",
        "# Function to compute the distillation loss, combining soft and hard targets\n",
        "def distillation_loss(student_logits, teacher_logits, target, alpha=0.5, temperature=4.0):\n",
        "    # The temperature parameter controls the softness of the probability distribution.\n",
        "    # Higher temperatures produce softer distributions, making it easier for the student\n",
        "    # to learn from the teacher's outputs by focusing on the relative probabilities.\n",
        "\n",
        "    # Compute the KL divergence between the softened student and teacher logits.\n",
        "    # 1. The student logits are divided by the temperature and passed through a log-softmax function.\n",
        "    # 2. The teacher logits are divided by the temperature and passed through a softmax function.\n",
        "    # 3. The KL divergence measures how different the student distribution is from the teacher distribution.\n",
        "    soft_loss = F.kl_div(\n",
        "        F.log_softmax(student_logits / temperature, dim=1), # Log-softmax of student logits\n",
        "        F.softmax(teacher_logits / temperature, dim=1), # Softmax of teacher logits\n",
        "        reduction=\"batchmean\" # Average over the batch\n",
        "    ) * (temperature ** 2) # Scale the loss by temperature squared\n",
        "\n",
        "    # The hard loss is the standard cross-entropy loss between the student logits and the true labels.\n",
        "    hard_loss = F.cross_entropy(student_logits, target)\n",
        "\n",
        "    # The total loss is a weighted sum of the hard loss and the soft loss.\n",
        "    return alpha * hard_loss + (1 - alpha) * soft_loss\n",
        "\n",
        "# Function to train the student model with or without distillation\n",
        "def train_student(student_model, train_loader, distillation=False, teacher_model=None, epochs=10):\n",
        "    optimizer = optim.Adam(student_model.parameters(), lr=0.0001)\n",
        "\n",
        "    if distillation and teacher_model is None:\n",
        "        raise ValueError(\"Teacher model is required for distillation.\")\n",
        "    if distillation and teacher_model is not None:\n",
        "      teacher_model.eval()\n",
        "\n",
        "    student_model.train()\n",
        "\n",
        "    for epoch in range(epochs):\n",
        "        for data, target in train_loader:\n",
        "            data, target = data.to(device), target.to(device)\n",
        "\n",
        "            optimizer.zero_grad()\n",
        "\n",
        "            student_logits = student_model(data)\n",
        "\n",
        "            if distillation and teacher_model is not None:\n",
        "              with torch.no_grad():\n",
        "                  teacher_logits = teacher_model(data)\n",
        "              loss = distillation_loss(student_logits, teacher_logits, target)\n",
        "            else:\n",
        "              loss = F.cross_entropy(student_logits, target)\n",
        "\n",
        "\n",
        "            loss.backward()\n",
        "            optimizer.step()\n",
        "\n",
        "        print(f\"Epoch {epoch + 1}/{epochs}, Loss: {loss.item():.4f}\")"
      ],
      "metadata": {
        "id": "l-m4FgzERzdO"
      },
      "execution_count": 45,
      "outputs": []
    },
    {
      "cell_type": "code",
      "source": [
        "# Fine-tune the student model without distillation\n",
        "print(\"Student fine-tuning\")\n",
        "train_student(student_model, train_loader)"
      ],
      "metadata": {
        "colab": {
          "base_uri": "https://localhost:8080/"
        },
        "id": "_2wudJd_dsrM",
        "outputId": "7e64a812-1d58-4701-918a-541eb1a2da8b"
      },
      "execution_count": 42,
      "outputs": [
        {
          "output_type": "stream",
          "name": "stdout",
          "text": [
            "Student fine-tuning\n",
            "Epoch 1/10, Loss: 1.5036\n",
            "Epoch 2/10, Loss: 1.3451\n",
            "Epoch 3/10, Loss: 1.5492\n",
            "Epoch 4/10, Loss: 0.9970\n",
            "Epoch 5/10, Loss: 1.1176\n",
            "Epoch 6/10, Loss: 0.8985\n",
            "Epoch 7/10, Loss: 0.8721\n",
            "Epoch 8/10, Loss: 1.0488\n",
            "Epoch 9/10, Loss: 1.2732\n",
            "Epoch 10/10, Loss: 1.2594\n"
          ]
        }
      ]
    },
    {
      "cell_type": "code",
      "source": [
        "# Train the student model with distillation\n",
        "print(\"Student distillation from teacher\")\n",
        "train_student(student_model_distilled, train_loader, distillation=True, teacher_model=teacher_model)"
      ],
      "metadata": {
        "colab": {
          "base_uri": "https://localhost:8080/"
        },
        "id": "18B3bPKUdu1z",
        "outputId": "1ef62108-324e-4ce9-e608-7e60c8e443bc"
      },
      "execution_count": 46,
      "outputs": [
        {
          "output_type": "stream",
          "name": "stdout",
          "text": [
            "Student distillation from teacher\n",
            "Epoch 1/10, Loss: 2.6009\n",
            "Epoch 2/10, Loss: 2.3941\n",
            "Epoch 3/10, Loss: 1.9015\n",
            "Epoch 4/10, Loss: 1.4738\n",
            "Epoch 5/10, Loss: 1.9618\n",
            "Epoch 6/10, Loss: 1.2760\n",
            "Epoch 7/10, Loss: 1.7254\n",
            "Epoch 8/10, Loss: 1.9078\n",
            "Epoch 9/10, Loss: 1.3940\n",
            "Epoch 10/10, Loss: 1.8890\n"
          ]
        }
      ]
    },
    {
      "cell_type": "code",
      "source": [
        "# Evaluation\n",
        "# Function to evaluate the model on the test dataset\n",
        "def evaluate(model, test_loader):\n",
        "    model.eval()\n",
        "    correct = 0\n",
        "    with torch.no_grad():\n",
        "        for data, target in test_loader:\n",
        "            data, target = data.to(device), target.to(device)\n",
        "            output = model(data)\n",
        "            pred = output.argmax(dim=1, keepdim=True)\n",
        "            correct += pred.eq(target.view_as(pred)).sum().item()\n",
        "    print(f\"Accuracy: {correct / len(test_loader.dataset) * 100:.2f}%\")\n",
        "\n",
        "print(\"Teacher Model Performance:\")\n",
        "evaluate(teacher_model, test_loader)\n",
        "\n",
        "print(\"Student Model Performance without distillation:\")\n",
        "evaluate(student_model, test_loader)\n",
        "\n",
        "print(\"Student Model Performance with distillation:\")\n",
        "evaluate(student_model_distilled, test_loader)"
      ],
      "metadata": {
        "colab": {
          "base_uri": "https://localhost:8080/"
        },
        "id": "LQNp33bNR88e",
        "outputId": "7662a656-1d06-41c5-fb04-c6006892ad13"
      },
      "execution_count": 47,
      "outputs": [
        {
          "output_type": "stream",
          "name": "stdout",
          "text": [
            "Teacher Model Performance:\n",
            "Accuracy: 68.64%\n",
            "Student Model Performance without distillation:\n",
            "Accuracy: 64.83%\n",
            "Student Model Performance with distillation:\n",
            "Accuracy: 66.92%\n"
          ]
        }
      ]
    },
    {
      "cell_type": "code",
      "source": [
        "# Visualization\n",
        "# Compare the number of parameters between teacher and student models\n",
        "plt.figure(figsize=(10, 5))\n",
        "x = [\"Teacher\", \"Student\"]\n",
        "y = [\n",
        "    sum(p.numel() for p in teacher_model.parameters()),\n",
        "    sum(p.numel() for p in student_model.parameters())\n",
        "]\n",
        "plt.bar(x, y, color=['blue', 'orange'])\n",
        "plt.title(\"Model Parameter Comparison\")\n",
        "plt.ylabel(\"Number of Parameters\")\n",
        "plt.show()"
      ],
      "metadata": {
        "colab": {
          "base_uri": "https://localhost:8080/",
          "height": 468
        },
        "id": "eKuu6KHdSAJC",
        "outputId": "9c032457-72f6-40a8-a8d1-1d0c09388fcb"
      },
      "execution_count": 48,
      "outputs": [
        {
          "output_type": "display_data",
          "data": {
            "text/plain": [
              "<Figure size 1000x500 with 1 Axes>"
            ],
            "image/png": "[encoded data removed]"
          },
          "metadata": {}
        }
      ]
    },
    {
      "cell_type": "code",
      "source": [
        "# Key Learnings while learning:\n",
        "# 1. Fine-tuning the student for 10 epochs after using an early-stopped teacher (5 epochs) can yield better results.\n",
        "# 2. Increasing the temperature to 4 and using a balanced alpha (0.5) helps improve the distillation process."
      ],
      "metadata": {
        "id": "dl15wTYBSCdu"
      },
      "execution_count": 52,
      "outputs": []
    }
  ]
}